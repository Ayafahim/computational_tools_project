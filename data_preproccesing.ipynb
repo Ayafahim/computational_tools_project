{
 "cells": [
  {
   "cell_type": "code",
   "execution_count": 28,
   "metadata": {},
   "outputs": [],
   "source": [
    "import pandas as pd\n",
    "from pathlib import Path\n",
    "from sklearn.preprocessing import MinMaxScaler\n",
    "\n",
    "# Get the directory of the current notebook\n",
    "base_dir = Path().resolve()\n",
    "\n",
    "# Define the data directory\n",
    "data_dir = base_dir / 'data'\n",
    "\n",
    "# Construct the path to the data file\n",
    "data_path = data_dir / 'dataset.csv'\n",
    "\n",
    "# Read the main CSV file\n",
    "df = pd.read_csv(data_path)\n",
    "df = df.dropna() # Drop missing values \n",
    "df = df.drop_duplicates(subset='track_id')\n",
    "\n",
    "# Convert duration from ms to seconds\n",
    "df['duration_sec'] = df['duration_ms'] / 1000\n",
    "df = df.drop(columns='duration_ms')  # Drop duration_ms column\n",
    "df['explicit'] = df['explicit'].astype(bool)\n",
    "\n",
    "# List of features to normalize\n",
    "features_to_normalize = ['danceability', 'energy', 'loudness', 'speechiness', \n",
    "                         'acousticness', 'instrumentalness', 'liveness', 'valence', 'tempo']\n",
    "\n",
    "# Apply MinMaxScaler\n",
    "scaler = MinMaxScaler()\n",
    "df[features_to_normalize] = scaler.fit_transform(df[features_to_normalize])\n",
    "\n",
    "#Keep first artist only since keeping all artists might dilute clustering\n",
    "df['artist'] = df['artists'].apply(lambda x: x.split(';')[0] if ';' in x else x)\n",
    "\n",
    "# Convert genre to category and encode as numeric labels\n",
    "df['genre_label'] = df['track_genre'].astype('category').cat.codes\n",
    "\n",
    "# Mapping of genre codes to genre names\n",
    "genre_mapping = dict(enumerate(df['track_genre'].astype('category').cat.categories))\n",
    "\n",
    "\n",
    "df.to_csv('processed_data.csv', index=False)\n"
   ]
  }
 ],
 "metadata": {
  "kernelspec": {
   "display_name": "venv",
   "language": "python",
   "name": "python3"
  },
  "language_info": {
   "codemirror_mode": {
    "name": "ipython",
    "version": 3
   },
   "file_extension": ".py",
   "mimetype": "text/x-python",
   "name": "python",
   "nbconvert_exporter": "python",
   "pygments_lexer": "ipython3",
   "version": "3.12.2"
  }
 },
 "nbformat": 4,
 "nbformat_minor": 2
}
